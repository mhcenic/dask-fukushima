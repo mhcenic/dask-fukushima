{
 "cells": [
  {
   "cell_type": "code",
   "execution_count": null,
   "id": "9e6c574b-a57e-46d4-9ba7-dd3409b7e669",
   "metadata": {},
   "outputs": [],
   "source": [
    "from dask.distributed import Client, LocalCluster\n",
    "import s3fs\n",
    "import dask.dataframe as dd\n",
    "import time\n",
    "import pandas as pd\n",
    "import matplotlib.pyplot as plt\n",
    "import geopandas as gpd\n",
    "from shapely.geometry import Point\n",
    "import prophet\n",
    "\n",
    "from dask_cloudprovider.azure import AzureVMCluster"
   ]
  },
  {
   "cell_type": "code",
   "execution_count": null,
   "id": "f5b38683-c04b-421e-bf25-b437931639c1",
   "metadata": {},
   "outputs": [],
   "source": [
    "# columns = [\"when_captured\",\n",
    "#            \"service_uploaded\",\n",
    "#             \"loc_lat\",\n",
    "#             \"loc_lon\",\n",
    "#             \"opc_pm01_0\",\n",
    "#             \"opc_pm02_5\",\n",
    "#             \"opc_pm10_0\",\n",
    "#             \"pms_pm01_0\",\n",
    "#             \"pms_pm02_5\",\n",
    "#             \"pms_pm10_0\",\n",
    "#             \"pms2_pm01_0\",\n",
    "#             \"pms2_pm02_5\",\n",
    "#             \"pms2_pm10_0\",\n",
    "#             \"lnd_712u\",\n",
    "#             \"lnd_712c\",\n",
    "#             \"lnd_7318u\",\n",
    "#             \"lnd_7318c\",\n",
    "#             \"lnd_7128ec\",\n",
    "#             \"lnd_78017u\",\n",
    "#             \"lnd_78017c\",\n",
    "#             \"lnd_78017w\",\n",
    "#             \"env_temp\",\n",
    "#             \"env_humid\",\n",
    "#             \"env_press\"]"
   ]
  },
  {
   "cell_type": "code",
   "execution_count": null,
   "id": "59f996c2-8efe-4b4a-9f19-5bc1472b0910",
   "metadata": {},
   "outputs": [],
   "source": [
    "def create_azure_cluster_and_client():\n",
    "    cluster = AzureVMCluster(resource_group=\"adzd_group_v3\",\n",
    "                             vnet=\"adzd_vnet_v3\", \n",
    "                             location =\"northeurope\", \n",
    "                             security_group=\"adzd_security_v3\",\n",
    "                             n_workers=1)\n",
    "    client = Client(cluster)\n",
    "    return cluster, client"
   ]
  },
  {
   "cell_type": "code",
   "execution_count": null,
   "id": "846f3449",
   "metadata": {},
   "outputs": [],
   "source": [
    "def create_local_cluster_and_client():\n",
    "    cluster = LocalCluster()\n",
    "    client = Client(cluster)\n",
    "    return cluster,client"
   ]
  },
  {
   "cell_type": "code",
   "execution_count": null,
   "id": "4f4aedab-8f0e-4e73-868a-7d99238e7eb2",
   "metadata": {},
   "outputs": [],
   "source": [
    "def scale_and_run_benchmark(cluster,df,benchmark_func,workers):\n",
    "    cluster.scale(workers)\n",
    "    start_time = time.time()\n",
    "    result = benchmark_func(df)\n",
    "    end_time = time.time()\n",
    "    return result,end_time-start_time"
   ]
  },
  {
   "cell_type": "code",
   "execution_count": null,
   "id": "15c756f1-e107-48ec-aa4c-d2c76ae32c82",
   "metadata": {},
   "outputs": [],
   "source": [
    "def get_avg_radiation(payload):\n",
    "    get_radiation_funcs = [get_lnd_712u, get_lnd_7318u, get_lnd_7318c, get_lnd_7128ec, get_lnd_78017u, get_lnd_78017c, get_lnd_78017w]\n",
    "    measurements = [func(payload) for func in get_radiation_funcs]\n",
    "    filtered = [m for m in measurements if m != None]\n",
    "    msum = float(sum(filtered))\n",
    "    mcount = len(filtered)\n",
    "    return msum/mcount if mcount > 0 else None"
   ]
  },
  {
   "cell_type": "code",
   "execution_count": null,
   "id": "c473f34f-0188-401e-a8fc-f89b76251b14",
   "metadata": {},
   "outputs": [],
   "source": [
    "get_when_captured = lambda payload: payload.get(\"when_captured\",None)\n",
    "get_lat = lambda payload: payload.get(\"loc_lat\", None)\n",
    "get_lon = lambda payload: payload.get(\"loc_lon\", None)\n",
    "# Jednostka dla poniższych: μSv/h\n",
    "get_lnd_712u = lambda payload: payload.get(\"lnd_712c\", None)\n",
    "get_lnd_7318u = lambda payload: payload.get(\"lnd_7318u\", None)\n",
    "get_lnd_7318c = lambda payload: payload.get(\"lnd_7318c\", None)\n",
    "get_lnd_7128ec = lambda payload: payload.get(\"lnd_7128ec\", None)\n",
    "get_lnd_78017u = lambda payload: payload.get(\"lnd_78017u\", None)\n",
    "get_lnd_78017c = lambda payload: payload.get(\"lnd_78017c\", None)\n",
    "get_lnd_78017w = lambda payload: payload.get(\"lnd_78017w\", None)"
   ]
  },
  {
   "cell_type": "code",
   "execution_count": null,
   "id": "23f6735b-d907-4f94-9901-401e96607322",
   "metadata": {},
   "outputs": [],
   "source": [
    "def read_data(date_string):\n",
    "    df = dd.read_json(\n",
    "            f's3://safecastdata-us-west-2/ingest/prd/s3raw/{date_string}', storage_options={'anon':True})\n",
    "    return df"
   ]
  },
  {
   "cell_type": "code",
   "execution_count": null,
   "id": "831dac8b-c22f-4971-810c-3a7c77f0a7bd",
   "metadata": {},
   "outputs": [],
   "source": [
    "def read_data_for_multiple_days(year_and_month_string,first_day=1,last_day=30):\n",
    "    paths = [\n",
    "        f's3://safecastdata-us-west-2/ingest/prd/s3raw/{year_and_month_string}-{day:02}/*/*' for day in range(first_day,last_day+1)\n",
    "    ]\n",
    "    df = dd.read_json(\n",
    "            paths, \n",
    "            storage_options={'anon': True}\n",
    "        )\n",
    "    return df"
   ]
  },
  {
   "cell_type": "code",
   "execution_count": null,
   "id": "74fb3db5-455d-4863-ae94-6a3a6a8071bb",
   "metadata": {},
   "outputs": [],
   "source": [
    "def prep_data(df):\n",
    "    df_prep = df.copy()\n",
    "    \n",
    "    print(\"GET DATETIME\")\n",
    "    df_prep[\"datetime\"] = df_prep[\"payload\"].map(get_when_captured,meta=('datetime', str))\n",
    "    \n",
    "    print(\"GET LATITUDE AND LONGITUDE\")\n",
    "    df_prep[\"latitude\"] = df_prep[\"payload\"].map(get_lat,meta=('latitude', float))\n",
    "    df_prep[\"longitude\"] = df_prep[\"payload\"].map(get_lon,meta=('longitude', float))\n",
    "    \n",
    "    print(\"GET RADIATION\")\n",
    "    df_prep[\"lnd_712u\"] = df_prep[\"payload\"].map(get_lnd_712u,meta=('712u', float))\n",
    "    df_prep[\"lnd_7318u\"] = df_prep[\"payload\"].map(get_lnd_7318u,meta=('7318u', float))\n",
    "    df_prep[\"lnd_7318c\"] = df_prep[\"payload\"].map(get_lnd_7318c,meta=('7318c', float))\n",
    "    df_prep[\"lnd_7128ec\"] = df_prep[\"payload\"].map(get_lnd_7128ec,meta=('7128ec', float))\n",
    "    df_prep[\"lnd_78017u\"] = df_prep[\"payload\"].map(get_lnd_78017u,meta=('78017u', float))\n",
    "    df_prep[\"lnd_78017c\"] = df_prep[\"payload\"].map(get_lnd_78017c,meta=('78017c', float))\n",
    "    df_prep[\"lnd_78017w\"] = df_prep[\"payload\"].map(get_lnd_78017w,meta=('78017w', float))\n",
    "    df_prep[\"avg_radiation\"] = df_prep[\"payload\"].map(get_avg_radiation,meta=('avg_radiation', float))\n",
    "    \n",
    "    print(\"SELECT COLUMNS\")\n",
    "    df_prep = df_prep[[\"datetime\",\"latitude\",\"longitude\",\"avg_radiation\"]]\n",
    "    \n",
    "    print(\"REMOVE NULL VALUES\")\n",
    "    df_prep = df_prep.dropna(how='any')\n",
    "    \n",
    "    print(\"CONVERT STRING TO DATETIME\")\n",
    "    df_prep[\"datetime\"] = dd.to_datetime(df_prep[\"datetime\"])\n",
    "    df_prep[\"date_with_hour\"] = dd.to_datetime(df_prep[\"datetime\"].apply(lambda dt: str(dt)[:10] + \" \" + str(dt)[11:13] + \":00\", meta=('datetime',str)))\n",
    "    \n",
    "    print(\"REMOVE WRONG DATA BASED ON DATE\")\n",
    "    today = pd.datetime.today()\n",
    "    df_prep = df_prep[df_prep['date_with_hour'].between('1980-01-01', today)]\n",
    "    \n",
    "    print(\"REMOVE OUTLIERS\")\n",
    "    # Keep only positive values\n",
    "    df_prep = df_prep[df_prep[\"avg_radiation\"] > 0]\n",
    "    \n",
    "    # Identifying outliers with the 1.5xIQR rule\n",
    "    Q1 = df_prep['avg_radiation'].quantile(.25)\n",
    "    Q3 = df_prep['avg_radiation'].quantile(.75)\n",
    "    q1 = Q1 - 1.5 * (Q3 - Q1)\n",
    "    Q4 = df_prep['avg_radiation'].quantile(0.995)\n",
    "    df_prep = df_prep[df_prep['avg_radiation'].between(q1, Q4)]\n",
    "\n",
    "    return df_prep"
   ]
  },
  {
   "cell_type": "code",
   "execution_count": null,
   "id": "d58efea4-d310-4e1c-a06f-d4286f511241",
   "metadata": {},
   "outputs": [],
   "source": [
    "def show_sensors_locations_on_map(df):\n",
    "    geometry = [Point(x,y) for x,y in zip(df['longitude'], df['latitude'])]\n",
    "    gdf = gpd.GeoDataFrame(geometry=geometry)   \n",
    "\n",
    "    world = gpd.read_file(gpd.datasets.get_path('naturalearth_lowres'))\n",
    "    ax = gdf.plot(ax=world.plot(figsize=(15, 10)), marker='.', color='red', markersize=8)\n",
    "    ax.set_title(\"Sensors' locations\")\n",
    "    plt.grid()\n",
    "    plt.show()"
   ]
  },
  {
   "cell_type": "code",
   "execution_count": null,
   "id": "8df10fef-daec-4d47-bdae-164d98cb02c7",
   "metadata": {},
   "outputs": [],
   "source": [
    "def get_data_for_given_area(df,lon_min,lat_min,lon_max,lat_max):\n",
    "    return df[(df.longitude > lon_min) & (df.longitude < lon_max) & (df.latitude > lat_min) & (df.latitude < lat_max)]"
   ]
  },
  {
   "cell_type": "code",
   "execution_count": null,
   "id": "a958290d-1314-421b-b823-a717b054e0fa",
   "metadata": {},
   "outputs": [],
   "source": [
    "def filter_data_by_region(df,region):\n",
    "    lon_min_jpn, lat_min_jpn, lon_max_jpn, lat_max_jpn = 128.03, 30.22, 148.65, 45.83 # Japan\n",
    "    lon_min_fk, lat_min_fk, lon_max_fk, lat_max_fk = 140.0166, 37.0047, 141.2251, 38.195 # Fukushima\n",
    "    lon_min_usa, lat_min_usa, lon_max_usa, lat_max_usa = -161.75583, 19.50139, -68.01197, 64.85694 # USA\n",
    "    \n",
    "    if region == \"Japan\":\n",
    "        return get_data_for_given_area(df,lon_min_jpn,lat_min_jpn,lon_max_jpn,lat_max_jpn) \n",
    "    elif region == \"Fukushima\":\n",
    "        return get_data_for_given_area(df,lon_min_fk,lat_min_fk,lon_max_fk,lat_max_fk)\n",
    "    elif region == \"USA\":\n",
    "        return get_data_for_given_area(df,lon_min_usa,lat_min_usa,lon_max_usa,lat_max_usa)\n",
    "    else:\n",
    "        return df"
   ]
  },
  {
   "cell_type": "code",
   "execution_count": null,
   "id": "b78d2a49-d090-4331-ae60-71f04885efb4",
   "metadata": {},
   "outputs": [],
   "source": [
    "def get_avg_radiation_by_location(df):\n",
    "    return df.groupby(by=[\"latitude\",\"longitude\"]).agg({'avg_radiation': ['mean', 'std']}).compute()"
   ]
  },
  {
   "cell_type": "code",
   "execution_count": null,
   "id": "bf34c019-fc5a-4148-a829-fd13a0759d13",
   "metadata": {},
   "outputs": [],
   "source": [
    "def get_avg_radiation_per_hour(df):\n",
    "    return df.groupby(by=[\"date_with_hour\"]).agg({'avg_radiation':'mean'}).compute()"
   ]
  },
  {
   "cell_type": "code",
   "execution_count": null,
   "id": "2a5c79cc-e384-49a7-a05e-670b9478215b",
   "metadata": {},
   "outputs": [],
   "source": [
    "def count_records(df):\n",
    "    return df.count().compute()[\"avg_radiation\"]"
   ]
  },
  {
   "cell_type": "code",
   "execution_count": null,
   "id": "3710f892-3ef9-42d8-a26b-c98b75bd2f32",
   "metadata": {},
   "outputs": [],
   "source": [
    "def count_unique_locations(df):\n",
    "    return df.groupby(by=[\"latitude\",\"longitude\"]).count().count().compute()"
   ]
  },
  {
   "cell_type": "code",
   "execution_count": null,
   "id": "c305b9db-0716-4375-9ecf-66a5688b25bf",
   "metadata": {},
   "outputs": [],
   "source": [
    "def get_max_and_min_radiation(df):\n",
    "    return {\"min\": df.avg_radiation.min().compute(), \"max\": df.avg_radiation.max().compute()}"
   ]
  },
  {
   "cell_type": "code",
   "execution_count": null,
   "id": "36d58506-baf0-46fa-8766-daaee760747a",
   "metadata": {},
   "outputs": [],
   "source": [
    "def get_loc_with_max_radiation(df):\n",
    "    max_val = df.avg_radiation.max().compute()\n",
    "    pandas_df = df[df.avg_radiation == max_val].compute()\n",
    "    lat = pandas_df.iloc[0][\"latitude\"]\n",
    "    long = pandas_df.iloc[0][\"longitude\"]\n",
    "    return {\"latitude\":lat,\"longitude\":long}"
   ]
  },
  {
   "cell_type": "code",
   "execution_count": null,
   "id": "66070719-de51-4f00-98e4-9546c8ffbe51",
   "metadata": {},
   "outputs": [],
   "source": [
    "def run_benchmarks(cluster,df,cluster_type=\"local\"):\n",
    "    number_of_records = count_records(df)\n",
    "    benchmarks = [count_records,count_unique_locations,get_avg_radiation_by_location,get_max_and_min_radiation,get_loc_with_max_radiation]\n",
    "    workers_list = [1,2,3,4]\n",
    "    \n",
    "    results = []\n",
    "    for benchmark in benchmarks:\n",
    "        for workers in workers_list:\n",
    "            print(f\"RUNNING BENCHMARK {benchmark.__name__} USING {workers} WORKERS\")\n",
    "            _,duration = scale_and_run_benchmark(cluster,df,benchmark,workers)\n",
    "            results.append({\"records\":number_of_records,\"benchmark_func\":benchmark.__name__,\"workers\":workers,\"time\":duration,\"cluster_type\":cluster_type})\n",
    "            \n",
    "    results_df = pd.DataFrame(results)\n",
    "    \n",
    "    time_one_instance = results_df.iloc[0].time\n",
    "    results_df[\"speedup\"] = time_one_instance/results_df[\"time\"]\n",
    "    results_df[\"efficiency\"] = results_df[\"speedup\"]/results_df[\"workers\"]\n",
    "            \n",
    "    return results_df"
   ]
  },
  {
   "cell_type": "code",
   "execution_count": null,
   "id": "641d3e71-a7d8-4d78-8aeb-f7dd1b9e60e3",
   "metadata": {},
   "outputs": [],
   "source": [
    "def plot_efficiency(results,exclude_benchmarks=[\"count_records\"]):\n",
    "    benchmarks = [b for b in pd.unique(results[\"benchmark_func\"]) if b not in exclude_benchmarks]\n",
    "    colors = [\"tab:blue\",\"tab:orange\",\"tab:green\",\"tab:red\",\"tab:purple\",\"tab:cyan\"]\n",
    "    assert(len(colors)>=len(benchmarks))\n",
    "    used_colors = colors[:len(benchmarks)]\n",
    "    \n",
    "    for benchmark,color in zip(benchmarks,used_colors):\n",
    "        filtered = results[results[\"benchmark_func\"]==benchmark]\n",
    "        plt.plot(filtered[\"workers\"],filtered[\"efficiency\"],c=color,label=benchmark,marker='o',linestyle='--')\n",
    "    \n",
    "    plt.xlabel(\"Number of worker instances\")\n",
    "    plt.ylabel(\"Efficiency\")\n",
    "    plt.ylim(ymin=0,ymax=1.1)\n",
    "    plt.grid()\n",
    "    plt.legend()\n",
    "    plt.show()"
   ]
  },
  {
   "cell_type": "code",
   "execution_count": null,
   "id": "e3daadbc-0fa4-4a2a-b037-b85e8f780189",
   "metadata": {},
   "outputs": [],
   "source": [
    "def plot_acceleration(results,exclude_benchmarks=[\"count_records\"]):\n",
    "    benchmarks = [b for b in pd.unique(results[\"benchmark_func\"]) if b not in exclude_benchmarks]\n",
    "    colors = [\"tab:blue\",\"tab:orange\",\"tab:green\",\"tab:red\",\"tab:purple\",\"tab:cyan\"]\n",
    "    assert(len(colors)>=len(benchmarks))\n",
    "    used_colors = colors[:len(benchmarks)]\n",
    "    \n",
    "    for benchmark,color in zip(benchmarks,used_colors):\n",
    "        filtered = results[results[\"benchmark_func\"]==benchmark]\n",
    "        plt.plot(filtered[\"workers\"],filtered[\"speedup\"],c=color,label=benchmark,marker='o',linestyle='--')\n",
    "    \n",
    "    plt.xlabel(\"Number of worker instances\")\n",
    "    plt.ylabel(\"Acceleration\")\n",
    "    plt.grid()\n",
    "    plt.legend()\n",
    "    plt.show()"
   ]
  },
  {
   "cell_type": "code",
   "execution_count": null,
   "id": "4bae0a63-b5c2-4f9a-8a45-8324333261d2",
   "metadata": {},
   "outputs": [],
   "source": [
    "def plot_time(results,exclude_benchmarks=[\"count_records\"]):\n",
    "    benchmarks = [b for b in pd.unique(results[\"benchmark_func\"]) if b not in exclude_benchmarks]\n",
    "    colors = [\"tab:blue\",\"tab:orange\",\"tab:green\",\"tab:red\",\"tab:purple\",\"tab:cyan\"]\n",
    "    assert(len(colors)>=len(benchmarks))\n",
    "    used_colors = colors[:len(benchmarks)]\n",
    "    \n",
    "    for benchmark,color in zip(benchmarks,used_colors):\n",
    "        filtered = results[results[\"benchmark_func\"]==benchmark]\n",
    "        plt.plot(filtered[\"workers\"],filtered[\"time\"],c=color,label=benchmark,marker='o',linestyle='--')\n",
    "    \n",
    "    plt.xlabel(\"Number of worker instances\")\n",
    "    plt.ylabel(\"Time\")\n",
    "    plt.grid()\n",
    "    plt.legend()\n",
    "    plt.show()"
   ]
  },
  {
   "cell_type": "code",
   "execution_count": null,
   "id": "84ad3cb0-3bbc-425b-b77e-a65f19b6f908",
   "metadata": {
    "scrolled": false
   },
   "outputs": [],
   "source": [
    "# cluster,client = create_azure_cluster_and_client()\n",
    "\n",
    "cluster,client = create_local_cluster_and_client()"
   ]
  },
  {
   "cell_type": "code",
   "execution_count": null,
   "id": "7104ff49-e8e5-439e-a88e-48a5fb302e2d",
   "metadata": {},
   "outputs": [],
   "source": [
    "client"
   ]
  },
  {
   "cell_type": "code",
   "execution_count": null,
   "id": "253b6d3b-8738-434a-85ee-1f5b451543f2",
   "metadata": {},
   "outputs": [],
   "source": [
    "pd.set_option('display.max_colwidth', None)"
   ]
  },
  {
   "cell_type": "code",
   "execution_count": null,
   "id": "5f809500-9931-48cc-8889-573d40f33cce",
   "metadata": {
    "scrolled": true
   },
   "outputs": [],
   "source": [
    "single_date_string = '2021-01-20/*/*'\n",
    "df_single_date = read_data(single_date_string)\n",
    "df_single_date.head()"
   ]
  },
  {
   "cell_type": "code",
   "execution_count": null,
   "id": "1dfb8c65-e538-4275-84d5-6c598b8719e5",
   "metadata": {},
   "outputs": [],
   "source": [
    "df_single_date"
   ]
  },
  {
   "cell_type": "code",
   "execution_count": null,
   "id": "835f39aa-706c-44ec-945d-6ef412869c92",
   "metadata": {},
   "outputs": [],
   "source": [
    "df_sd_prep = prep_data(df_single_date)"
   ]
  },
  {
   "cell_type": "code",
   "execution_count": null,
   "id": "d4fdde2d-b103-4c9e-a2eb-b6e15e8713a7",
   "metadata": {},
   "outputs": [],
   "source": [
    "df_sd_prep"
   ]
  },
  {
   "cell_type": "code",
   "execution_count": null,
   "id": "85f235a4-3a2f-4696-be75-ffe2ec39bd25",
   "metadata": {},
   "outputs": [],
   "source": [
    "df_sd_prep.head()"
   ]
  },
  {
   "cell_type": "code",
   "execution_count": null,
   "id": "64af6591-486d-4ea7-a18e-2a043d784727",
   "metadata": {},
   "outputs": [],
   "source": [
    "show_sensors_locations_on_map(df_sd_prep)"
   ]
  },
  {
   "cell_type": "code",
   "execution_count": null,
   "id": "ae120dc9-994d-46e9-bdeb-97c5a9db33a6",
   "metadata": {},
   "outputs": [],
   "source": [
    "df_sd_jpn = filter_data_by_region(df_sd_prep,\"Japan\")\n",
    "df_sd_fk = filter_data_by_region(df_sd_prep,\"Fukushima\")\n",
    "df_sd_usa = filter_data_by_region(df_sd_prep,\"USA\")"
   ]
  },
  {
   "cell_type": "code",
   "execution_count": null,
   "id": "4422e464-1589-4d6a-8901-4fdccdc22560",
   "metadata": {},
   "outputs": [],
   "source": [
    "show_sensors_locations_on_map(df_sd_jpn)"
   ]
  },
  {
   "cell_type": "code",
   "execution_count": null,
   "id": "bd02cba6-b220-4c88-93f1-fbfd684cacdc",
   "metadata": {},
   "outputs": [],
   "source": [
    "show_sensors_locations_on_map(df_sd_fk)"
   ]
  },
  {
   "cell_type": "code",
   "execution_count": null,
   "id": "18c626bd-7ada-48f7-8046-494d1e40fc22",
   "metadata": {},
   "outputs": [],
   "source": [
    "show_sensors_locations_on_map(df_sd_usa)"
   ]
  },
  {
   "cell_type": "code",
   "execution_count": null,
   "id": "c0107574-b15d-42c7-814a-639d4903f70c",
   "metadata": {},
   "outputs": [],
   "source": [
    "def is_2021(date):\n",
    "    return date.year == 2021"
   ]
  },
  {
   "cell_type": "code",
   "execution_count": null,
   "id": "2cf4f3ca-d5af-4af6-8d4f-4ca95048e5ad",
   "metadata": {},
   "outputs": [],
   "source": [
    "df_sd_fk_grouped = get_avg_radiation_per_hour(df_sd_fk)"
   ]
  },
  {
   "cell_type": "code",
   "execution_count": null,
   "id": "1e72b7bb-3971-42b4-a0a3-693fd990caed",
   "metadata": {},
   "outputs": [],
   "source": [
    "df_sd_fk_grouped.head()"
   ]
  },
  {
   "cell_type": "code",
   "execution_count": null,
   "id": "5e386936-3a55-43fb-9353-72aff8c7907c",
   "metadata": {},
   "outputs": [],
   "source": [
    "fk_grouped = df_sd_fk_grouped.reset_index()\n",
    "fk_grouped[\"year\"] = fk_grouped[\"date_with_hour\"].apply(is_2021)\n",
    "fk_filtered = fk_grouped[fk_grouped[\"year\"]]\n",
    "fk_filtered"
   ]
  },
  {
   "cell_type": "code",
   "execution_count": null,
   "id": "41ee2686-1492-48c9-b813-f756664e2a6d",
   "metadata": {},
   "outputs": [],
   "source": [
    "df_sd_jpn_grouped = get_avg_radiation_per_hour(df_sd_jpn)"
   ]
  },
  {
   "cell_type": "code",
   "execution_count": null,
   "id": "1e623dd3-e85c-4ff9-9b43-9d7ea30bfe1e",
   "metadata": {},
   "outputs": [],
   "source": [
    "df_sd_jpn_grouped.head()"
   ]
  },
  {
   "cell_type": "code",
   "execution_count": null,
   "id": "f4c34b9d-6daa-4cf3-8a21-c7c47e244eb7",
   "metadata": {},
   "outputs": [],
   "source": [
    "jpn_grouped = df_sd_jpn_grouped.reset_index()\n",
    "jpn_grouped[\"year\"] = jpn_grouped[\"date_with_hour\"].apply(is_2021)\n",
    "jpn_filtered = jpn_grouped[jpn_grouped[\"year\"]]\n",
    "jpn_filtered"
   ]
  },
  {
   "cell_type": "code",
   "execution_count": null,
   "id": "37f7284f-fba1-4cbc-84d1-980fbb2632d1",
   "metadata": {},
   "outputs": [],
   "source": [
    "df_sd_usa_grouped = get_avg_radiation_per_hour(df_sd_usa)"
   ]
  },
  {
   "cell_type": "code",
   "execution_count": null,
   "id": "52eca150-96c5-483c-adad-d2d3a3704493",
   "metadata": {},
   "outputs": [],
   "source": [
    "df_sd_usa_grouped.head()"
   ]
  },
  {
   "cell_type": "code",
   "execution_count": null,
   "id": "6fdad7f4-5156-4b55-8c87-8697aea31dda",
   "metadata": {},
   "outputs": [],
   "source": [
    "usa_grouped = df_sd_usa_grouped.reset_index()\n",
    "usa_grouped[\"year\"] = usa_grouped[\"date_with_hour\"].apply(is_2021)\n",
    "usa_filtered = usa_grouped[usa_grouped[\"year\"]]\n",
    "usa_filtered"
   ]
  },
  {
   "cell_type": "code",
   "execution_count": null,
   "id": "84af924d-d27a-411b-82d9-28f72158ff74",
   "metadata": {},
   "outputs": [],
   "source": [
    "hours_fk = [str(d) for d in list(fk_filtered.index)]\n",
    "hours_jpn = [str(d) for d in list(jpn_filtered.index)]\n",
    "hours_usa = [str(d) for d in list(usa_filtered.index)]\n",
    "\n",
    "values_fk = fk_filtered.avg_radiation\n",
    "values_jpn = jpn_filtered.avg_radiation\n",
    "values_usa = usa_filtered.avg_radiation"
   ]
  },
  {
   "cell_type": "code",
   "execution_count": null,
   "id": "e8f1121c-c669-481e-9755-c4f0b4c07f92",
   "metadata": {},
   "outputs": [],
   "source": [
    "hours = [hours_fk,hours_jpn,hours_usa]\n",
    "values = [values_fk,values_jpn,values_usa]\n",
    "colors = [\"tab:blue\",\"tab:green\",\"tab:red\"]\n",
    "regions = [\"Fukushima\",\"Japan\",\"USA\"]"
   ]
  },
  {
   "cell_type": "code",
   "execution_count": null,
   "id": "e43ccbd6-2b2b-4e3e-8db2-7ddd97e57ff8",
   "metadata": {},
   "outputs": [],
   "source": [
    "plt.figure(figsize=(15,10))\n",
    "\n",
    "for color,(region,(h,v)) in zip(colors,zip(regions,zip(hours,values))):\n",
    "    plt.plot(h,v,c=color,label=region,marker='o',linestyle='--')\n",
    "    \n",
    "plt.xlabel('Time')\n",
    "plt.ylabel('Avg radiation')\n",
    "plt.legend()\n",
    "plt.xticks(rotation=90)\n",
    "plt.show()"
   ]
  },
  {
   "cell_type": "code",
   "execution_count": null,
   "id": "9f50d053-9308-4b68-815d-24fc8b319e2b",
   "metadata": {},
   "outputs": [],
   "source": [
    "df_four_days = read_data_for_multiple_days(\"2021-01\",first_day=20,last_day=23)"
   ]
  },
  {
   "cell_type": "code",
   "execution_count": null,
   "id": "e221df77-a18d-44db-ba30-d024709d174b",
   "metadata": {},
   "outputs": [],
   "source": [
    "df_four_days.head()"
   ]
  },
  {
   "cell_type": "code",
   "execution_count": null,
   "id": "b8a54bb1-cb37-4332-a617-d5e1c2b095a1",
   "metadata": {},
   "outputs": [],
   "source": [
    "df_fd_prep = prep_data(df_four_days)"
   ]
  },
  {
   "cell_type": "code",
   "execution_count": null,
   "id": "48c71c0a-57dd-4e4f-a825-90672c12a949",
   "metadata": {},
   "outputs": [],
   "source": [
    "df_fd_prep.head()"
   ]
  },
  {
   "cell_type": "code",
   "execution_count": null,
   "id": "51a8375b-c629-4c1c-98e2-709d2710ac2b",
   "metadata": {},
   "outputs": [],
   "source": [
    "df_fd_fk_grouped = get_avg_radiation_per_hour(filter_data_by_region(df_fd_prep,\"Fukushima\")).reset_index()"
   ]
  },
  {
   "cell_type": "code",
   "execution_count": null,
   "id": "eec3861c-c293-41cf-b4fd-57247ecf9d43",
   "metadata": {},
   "outputs": [],
   "source": [
    "df_fd_fk_grouped[\"is_2021\"] = df_fd_fk_grouped[\"date_with_hour\"].apply(is_2021)"
   ]
  },
  {
   "cell_type": "code",
   "execution_count": null,
   "id": "4cf5af77-e3fe-41b5-b21c-a582941cd625",
   "metadata": {},
   "outputs": [],
   "source": [
    "forecast_df = df_fd_fk_grouped[df_fd_fk_grouped[\"is_2021\"]][[\"date_with_hour\",\"avg_radiation\"]]"
   ]
  },
  {
   "cell_type": "code",
   "execution_count": null,
   "id": "dea45fe2-7bf7-42a5-b975-a4a291da1014",
   "metadata": {},
   "outputs": [],
   "source": [
    "forecast_df.head()"
   ]
  },
  {
   "cell_type": "code",
   "execution_count": null,
   "id": "d36426f3-eae4-469d-9d0a-bfe41a5d7b0a",
   "metadata": {},
   "outputs": [],
   "source": [
    "forecast_df.rename(columns={\"date_with_hour\":\"ds\",\"avg_radiation\":\"y\"},inplace=True)"
   ]
  },
  {
   "cell_type": "code",
   "execution_count": null,
   "id": "77163a06-2bd7-40d8-b02c-5a8f1ffb830b",
   "metadata": {},
   "outputs": [],
   "source": [
    "forecast_df.head()"
   ]
  },
  {
   "cell_type": "code",
   "execution_count": null,
   "id": "3c4cf001-465a-41f3-a20e-f80a6815c8e9",
   "metadata": {},
   "outputs": [],
   "source": [
    "len(forecast_df)"
   ]
  },
  {
   "cell_type": "code",
   "execution_count": null,
   "id": "578f6d70-ed96-4a69-8420-0b4523619598",
   "metadata": {},
   "outputs": [],
   "source": [
    "plt.figure(figsize=(15,10))\n",
    "\n",
    "plt.plot(forecast_df[\"ds\"],forecast_df[\"y\"],marker='o',linestyle='--')\n",
    "    \n",
    "plt.xlabel('Time')\n",
    "plt.ylabel('Avg radiation')\n",
    "plt.xticks(rotation=90)\n",
    "plt.show()"
   ]
  },
  {
   "cell_type": "code",
   "execution_count": null,
   "id": "9d6a4ece-2383-437b-b9a5-426aed27e6df",
   "metadata": {},
   "outputs": [],
   "source": [
    "# based on: https://examples.dask.org/applications/forecasting-with-prophet.html"
   ]
  },
  {
   "cell_type": "code",
   "execution_count": null,
   "id": "7c3774a6-83da-4577-afa3-bbe0dd3a819b",
   "metadata": {},
   "outputs": [],
   "source": [
    "# ! pip3 install pystan==2.19.1.1"
   ]
  },
  {
   "cell_type": "code",
   "execution_count": null,
   "id": "8f66af36-54ca-4283-a86e-08d80b657995",
   "metadata": {},
   "outputs": [],
   "source": [
    "# ! pip3 install prophet"
   ]
  },
  {
   "cell_type": "code",
   "execution_count": null,
   "id": "24b75663-8569-46bc-9090-ac0f86ad7d1b",
   "metadata": {},
   "outputs": [],
   "source": [
    "from prophet import Prophet"
   ]
  },
  {
   "cell_type": "code",
   "execution_count": null,
   "id": "acefe5af-a2ef-4dc4-a003-f224c09998a0",
   "metadata": {},
   "outputs": [],
   "source": [
    "m = Prophet()\n",
    "m.fit(forecast_df)"
   ]
  },
  {
   "cell_type": "code",
   "execution_count": null,
   "id": "31f02e76-ad2f-409e-b16e-8869fe84d668",
   "metadata": {},
   "outputs": [],
   "source": [
    "future = m.make_future_dataframe(periods=100, freq='H')"
   ]
  },
  {
   "cell_type": "code",
   "execution_count": null,
   "id": "64948d34-d18d-41e5-a51b-951577c56f9c",
   "metadata": {},
   "outputs": [],
   "source": [
    "fcst = m.predict(future)"
   ]
  },
  {
   "cell_type": "code",
   "execution_count": null,
   "id": "f3c9abd9-50fb-427a-a8ac-82696ed7e535",
   "metadata": {},
   "outputs": [],
   "source": [
    "fig = m.plot(fcst)"
   ]
  },
  {
   "cell_type": "code",
   "execution_count": null,
   "id": "60642b13-310f-4807-9003-4d83994e5717",
   "metadata": {},
   "outputs": [],
   "source": [
    "# Z dokumentacji:\n",
    "# Prophet includes a prophet.diagnostics.cross_validation function method, which uses simulated historical forecasts to provide some idea of a model’s quality.\n",
    "# This is done by selecting cutoff points in the history, and for each of them fitting the model using data only up to that cutoff point. \n",
    "# We can then compare the forecasted values to the actual values.\n",
    "# Internally, cross_validation generates a list of cutoff values to try. \n",
    "# Prophet fits a model and computes some metrics for each of these. \n",
    "# By default each model is fit sequentially, \n",
    "# but the models can be trained in parallel using the parallel= keyword. \n",
    "# On a single machine parallel=\"processes\" is a good choice. For large problems where you’d like to distribute the work on a cluster, \n",
    "# use parallel=\"dask\" after you’ve connected to the cluster by creating a Client.\n",
    "# For large problems where you’d like to distribute the work on a cluster, use parallel=\"dask\" after you’ve connected to the cluster by creating a Client."
   ]
  },
  {
   "cell_type": "code",
   "execution_count": null,
   "id": "ffda1ef1-8363-4529-9e99-7343b4e6b36c",
   "metadata": {},
   "outputs": [],
   "source": [
    "df_cv = prophet.diagnostics.cross_validation(\n",
    "    m, horizon=\"10 hours\",\n",
    "    parallel=\"dask\"\n",
    ")"
   ]
  },
  {
   "cell_type": "code",
   "execution_count": null,
   "id": "fa06d7b9-3d51-4269-afac-998d6e64eb23",
   "metadata": {},
   "outputs": [],
   "source": [
    "df_cv"
   ]
  },
  {
   "cell_type": "code",
   "execution_count": null,
   "id": "1e017aaf",
   "metadata": {},
   "outputs": [],
   "source": [
    "from sktime.datasets import load_airline\n",
    "from sktime.forecasting.base import ForecastingHorizon\n",
    "from sktime.forecasting.naive import NaiveForecaster\n",
    "from sktime.utils.plotting import plot_series\n",
    "import numpy as np"
   ]
  },
  {
   "cell_type": "code",
   "execution_count": null,
   "id": "1979dc66",
   "metadata": {},
   "outputs": [],
   "source": [
    "forecast_df"
   ]
  },
  {
   "cell_type": "code",
   "execution_count": null,
   "id": "1b72a0b1",
   "metadata": {},
   "outputs": [],
   "source": [
    "forecast_df_ts = forecast_df.rename(columns={'ds': 'Period'})\n",
    "forecast_df_ts.set_index(\"Period\", inplace=True)"
   ]
  },
  {
   "cell_type": "code",
   "execution_count": null,
   "id": "db178ac1",
   "metadata": {},
   "outputs": [],
   "source": [
    "forecast_series = forecast_df_ts['y']"
   ]
  },
  {
   "cell_type": "code",
   "execution_count": null,
   "id": "8805c4e9",
   "metadata": {},
   "outputs": [],
   "source": [
    "forecast_series = forecast_series.asfreq(freq='H')"
   ]
  },
  {
   "cell_type": "code",
   "execution_count": null,
   "id": "4d1cbe95",
   "metadata": {},
   "outputs": [],
   "source": [
    "forecast_series"
   ]
  },
  {
   "cell_type": "code",
   "execution_count": null,
   "id": "749316ee",
   "metadata": {},
   "outputs": [],
   "source": [
    "y = forecast_series\n",
    "\n",
    "# step 2: specifying forecasting horizon\n",
    "fh = np.arange(1, 37)\n",
    "\n",
    "# step 3: specifying the forecasting algorithm\n",
    "forecaster = NaiveForecaster(strategy = \"last\", sp = 12)\n",
    "\n",
    "forecaster.fit(y, fh = fh)\n",
    "y_pred = forecaster.predict()"
   ]
  },
  {
   "cell_type": "code",
   "execution_count": null,
   "id": "6470b411",
   "metadata": {},
   "outputs": [],
   "source": [
    "# optional: plotting predictions and past data\n",
    "plot_series(y, y_pred, labels=[\"y\", \"y_pred\"])"
   ]
  },
  {
   "cell_type": "code",
   "execution_count": null,
   "id": "bdd26afa-9b3d-42b8-bad9-21a706bffb92",
   "metadata": {},
   "outputs": [],
   "source": [
    "sd_results = run_benchmarks(cluster,df_sd_prep)"
   ]
  },
  {
   "cell_type": "code",
   "execution_count": null,
   "id": "8b021f90-3213-4b12-99ae-1905bab9b02f",
   "metadata": {},
   "outputs": [],
   "source": [
    "fd_results = run_benchmarks(cluster,df_fd_prep)"
   ]
  },
  {
   "cell_type": "code",
   "execution_count": null,
   "id": "f223c1ee-12e7-46c2-8f53-f7ae6f89bbfe",
   "metadata": {},
   "outputs": [],
   "source": [
    "sd_results"
   ]
  },
  {
   "cell_type": "code",
   "execution_count": null,
   "id": "d4a98178-3378-4f0f-814f-46aa82bcdaa0",
   "metadata": {},
   "outputs": [],
   "source": [
    "plt.figure(figsize=(15,10))\n",
    "plot_time(sd_results)"
   ]
  },
  {
   "cell_type": "code",
   "execution_count": null,
   "id": "93abad94-74a6-4774-9e86-0c4f14d971f4",
   "metadata": {},
   "outputs": [],
   "source": [
    "plt.figure(figsize=(15,10))\n",
    "plot_acceleration(sd_results)"
   ]
  },
  {
   "cell_type": "code",
   "execution_count": null,
   "id": "ff7f16c4-aa88-410e-800e-3a734df43035",
   "metadata": {},
   "outputs": [],
   "source": [
    "plt.figure(figsize=(15,10))\n",
    "plot_efficiency(sd_results)"
   ]
  },
  {
   "cell_type": "code",
   "execution_count": null,
   "id": "8edb2ea9-7381-4bdc-b579-6f1a08a50f67",
   "metadata": {},
   "outputs": [],
   "source": [
    "fd_results"
   ]
  },
  {
   "cell_type": "code",
   "execution_count": null,
   "id": "c6512594-3ef3-4e54-97c0-e922c9348bbd",
   "metadata": {},
   "outputs": [],
   "source": [
    "plt.figure(figsize=(15,10))\n",
    "plot_time(fd_results)"
   ]
  },
  {
   "cell_type": "code",
   "execution_count": null,
   "id": "01a2f3ce-bf4e-4535-9f26-ea237a738df9",
   "metadata": {},
   "outputs": [],
   "source": [
    "plt.figure(figsize=(15,10))\n",
    "plot_acceleration(sd_results)"
   ]
  },
  {
   "cell_type": "code",
   "execution_count": null,
   "id": "9bf28cfd-a841-4b15-91fb-48028e1f8c93",
   "metadata": {},
   "outputs": [],
   "source": [
    "plt.figure(figsize=(15,10))\n",
    "plot_efficiency(sd_results)"
   ]
  },
  {
   "cell_type": "code",
   "execution_count": null,
   "id": "d225dd84-5fb8-4b3f-a752-25388839487f",
   "metadata": {},
   "outputs": [],
   "source": []
  }
 ],
 "metadata": {
  "kernelspec": {
   "display_name": "Python 3 (ipykernel)",
   "language": "python",
   "name": "python3"
  },
  "language_info": {
   "codemirror_mode": {
    "name": "ipython",
    "version": 3
   },
   "file_extension": ".py",
   "mimetype": "text/x-python",
   "name": "python",
   "nbconvert_exporter": "python",
   "pygments_lexer": "ipython3",
   "version": "3.7.11"
  }
 },
 "nbformat": 4,
 "nbformat_minor": 5
}
