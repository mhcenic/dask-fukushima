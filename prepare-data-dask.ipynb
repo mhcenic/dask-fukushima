{
 "cells": [
  {
   "cell_type": "code",
   "execution_count": 1,
   "id": "filled-hotel",
   "metadata": {},
   "outputs": [],
   "source": [
    "import dask.dataframe as dd"
   ]
  },
  {
   "cell_type": "code",
   "execution_count": 2,
   "id": "occupied-drama",
   "metadata": {},
   "outputs": [],
   "source": [
    "ORIGINAL_DIR = \"Original-Data/\"\n",
    "ANALYSIS_DIR = \"Analysis-Data/\""
   ]
  },
  {
   "cell_type": "code",
   "execution_count": 3,
   "id": "israeli-waters",
   "metadata": {},
   "outputs": [
    {
     "data": {
      "text/html": [
       "<div>\n",
       "<style scoped>\n",
       "    .dataframe tbody tr th:only-of-type {\n",
       "        vertical-align: middle;\n",
       "    }\n",
       "\n",
       "    .dataframe tbody tr th {\n",
       "        vertical-align: top;\n",
       "    }\n",
       "\n",
       "    .dataframe thead th {\n",
       "        text-align: right;\n",
       "    }\n",
       "</style>\n",
       "<table border=\"1\" class=\"dataframe\">\n",
       "  <thead>\n",
       "    <tr style=\"text-align: right;\">\n",
       "      <th></th>\n",
       "      <th>Captured Time</th>\n",
       "      <th>Latitude</th>\n",
       "      <th>Longitude</th>\n",
       "      <th>Value</th>\n",
       "      <th>Unit</th>\n",
       "      <th>Location Name</th>\n",
       "      <th>Device ID</th>\n",
       "      <th>MD5Sum</th>\n",
       "      <th>Height</th>\n",
       "      <th>Surface</th>\n",
       "      <th>Radiation</th>\n",
       "      <th>Uploaded Time</th>\n",
       "      <th>Loader ID</th>\n",
       "    </tr>\n",
       "  </thead>\n",
       "  <tbody>\n",
       "    <tr>\n",
       "      <th>0</th>\n",
       "      <td>2021-12-09 01:59:54.307</td>\n",
       "      <td>42.698600</td>\n",
       "      <td>2.89560</td>\n",
       "      <td>22.0</td>\n",
       "      <td>cpm</td>\n",
       "      <td>NaN</td>\n",
       "      <td>238.0</td>\n",
       "      <td>613a747f2203473a089e3a33b5e699d8</td>\n",
       "      <td>NaN</td>\n",
       "      <td>NaN</td>\n",
       "      <td>NaN</td>\n",
       "      <td>2021-12-09 01:59:54.404897</td>\n",
       "      <td>NaN</td>\n",
       "    </tr>\n",
       "    <tr>\n",
       "      <th>1</th>\n",
       "      <td>2021-12-09 01:59:50.469</td>\n",
       "      <td>53.864000</td>\n",
       "      <td>-3.04700</td>\n",
       "      <td>20.5</td>\n",
       "      <td>cpm</td>\n",
       "      <td>NaN</td>\n",
       "      <td>245.0</td>\n",
       "      <td>2783a57d635cb69f372b13b51a66465f</td>\n",
       "      <td>NaN</td>\n",
       "      <td>NaN</td>\n",
       "      <td>NaN</td>\n",
       "      <td>2021-12-09 01:59:51.034365</td>\n",
       "      <td>NaN</td>\n",
       "    </tr>\n",
       "    <tr>\n",
       "      <th>2</th>\n",
       "      <td>2021-12-09 01:59:48</td>\n",
       "      <td>37.366713</td>\n",
       "      <td>140.53097</td>\n",
       "      <td>23.4</td>\n",
       "      <td>status</td>\n",
       "      <td>NaN</td>\n",
       "      <td>100079.0</td>\n",
       "      <td>849b30fc08e85036e90d429fcb9a61e0</td>\n",
       "      <td>462.0</td>\n",
       "      <td>NaN</td>\n",
       "      <td>NaN</td>\n",
       "      <td>2021-12-09 01:59:48.308799</td>\n",
       "      <td>NaN</td>\n",
       "    </tr>\n",
       "    <tr>\n",
       "      <th>3</th>\n",
       "      <td>2021-12-09 01:58:36</td>\n",
       "      <td>51.063400</td>\n",
       "      <td>11.75860</td>\n",
       "      <td>16.0</td>\n",
       "      <td>cpm</td>\n",
       "      <td>Sieglitz, DE</td>\n",
       "      <td>209.0</td>\n",
       "      <td>cc9900720a2ca552934dc0cc70b95d17</td>\n",
       "      <td>NaN</td>\n",
       "      <td>NaN</td>\n",
       "      <td>NaN</td>\n",
       "      <td>2021-12-09 01:59:47.643124</td>\n",
       "      <td>NaN</td>\n",
       "    </tr>\n",
       "    <tr>\n",
       "      <th>4</th>\n",
       "      <td>2021-12-09 01:59:47</td>\n",
       "      <td>37.366713</td>\n",
       "      <td>140.53097</td>\n",
       "      <td>14.0</td>\n",
       "      <td>cpm</td>\n",
       "      <td>NaN</td>\n",
       "      <td>100072.0</td>\n",
       "      <td>3703395434168ae96f0a2604aad6899a</td>\n",
       "      <td>462.0</td>\n",
       "      <td>NaN</td>\n",
       "      <td>NaN</td>\n",
       "      <td>2021-12-09 01:59:47.589836</td>\n",
       "      <td>NaN</td>\n",
       "    </tr>\n",
       "  </tbody>\n",
       "</table>\n",
       "</div>"
      ],
      "text/plain": [
       "             Captured Time   Latitude  Longitude  Value    Unit Location Name  \\\n",
       "0  2021-12-09 01:59:54.307  42.698600    2.89560   22.0     cpm           NaN   \n",
       "1  2021-12-09 01:59:50.469  53.864000   -3.04700   20.5     cpm           NaN   \n",
       "2      2021-12-09 01:59:48  37.366713  140.53097   23.4  status           NaN   \n",
       "3      2021-12-09 01:58:36  51.063400   11.75860   16.0     cpm  Sieglitz, DE   \n",
       "4      2021-12-09 01:59:47  37.366713  140.53097   14.0     cpm           NaN   \n",
       "\n",
       "   Device ID                            MD5Sum  Height  Surface  Radiation  \\\n",
       "0      238.0  613a747f2203473a089e3a33b5e699d8     NaN      NaN        NaN   \n",
       "1      245.0  2783a57d635cb69f372b13b51a66465f     NaN      NaN        NaN   \n",
       "2   100079.0  849b30fc08e85036e90d429fcb9a61e0   462.0      NaN        NaN   \n",
       "3      209.0  cc9900720a2ca552934dc0cc70b95d17     NaN      NaN        NaN   \n",
       "4   100072.0  3703395434168ae96f0a2604aad6899a   462.0      NaN        NaN   \n",
       "\n",
       "                Uploaded Time  Loader ID  \n",
       "0  2021-12-09 01:59:54.404897        NaN  \n",
       "1  2021-12-09 01:59:51.034365        NaN  \n",
       "2  2021-12-09 01:59:48.308799        NaN  \n",
       "3  2021-12-09 01:59:47.643124        NaN  \n",
       "4  2021-12-09 01:59:47.589836        NaN  "
      ]
     },
     "execution_count": 3,
     "metadata": {},
     "output_type": "execute_result"
    }
   ],
   "source": [
    "df = dd.read_csv(f\"{ORIGINAL_DIR}measurements-out.csv\", sample_rows=10, dtype={'Device ID': 'float64'})\n",
    "df.head()"
   ]
  },
  {
   "cell_type": "code",
   "execution_count": 4,
   "id": "boolean-orbit",
   "metadata": {},
   "outputs": [
    {
     "data": {
      "text/html": [
       "<div>\n",
       "<style scoped>\n",
       "    .dataframe tbody tr th:only-of-type {\n",
       "        vertical-align: middle;\n",
       "    }\n",
       "\n",
       "    .dataframe tbody tr th {\n",
       "        vertical-align: top;\n",
       "    }\n",
       "\n",
       "    .dataframe thead th {\n",
       "        text-align: right;\n",
       "    }\n",
       "</style>\n",
       "<table border=\"1\" class=\"dataframe\">\n",
       "  <thead>\n",
       "    <tr style=\"text-align: right;\">\n",
       "      <th></th>\n",
       "      <th>Captured Time</th>\n",
       "      <th>Latitude</th>\n",
       "      <th>Longitude</th>\n",
       "      <th>Value</th>\n",
       "      <th>Unit</th>\n",
       "    </tr>\n",
       "  </thead>\n",
       "  <tbody>\n",
       "    <tr>\n",
       "      <th>0</th>\n",
       "      <td>2021-12-09 01:59:54.307</td>\n",
       "      <td>42.698600</td>\n",
       "      <td>2.89560</td>\n",
       "      <td>22.0</td>\n",
       "      <td>cpm</td>\n",
       "    </tr>\n",
       "    <tr>\n",
       "      <th>1</th>\n",
       "      <td>2021-12-09 01:59:50.469</td>\n",
       "      <td>53.864000</td>\n",
       "      <td>-3.04700</td>\n",
       "      <td>20.5</td>\n",
       "      <td>cpm</td>\n",
       "    </tr>\n",
       "    <tr>\n",
       "      <th>2</th>\n",
       "      <td>2021-12-09 01:59:48</td>\n",
       "      <td>37.366713</td>\n",
       "      <td>140.53097</td>\n",
       "      <td>23.4</td>\n",
       "      <td>status</td>\n",
       "    </tr>\n",
       "    <tr>\n",
       "      <th>3</th>\n",
       "      <td>2021-12-09 01:58:36</td>\n",
       "      <td>51.063400</td>\n",
       "      <td>11.75860</td>\n",
       "      <td>16.0</td>\n",
       "      <td>cpm</td>\n",
       "    </tr>\n",
       "    <tr>\n",
       "      <th>4</th>\n",
       "      <td>2021-12-09 01:59:47</td>\n",
       "      <td>37.366713</td>\n",
       "      <td>140.53097</td>\n",
       "      <td>14.0</td>\n",
       "      <td>cpm</td>\n",
       "    </tr>\n",
       "  </tbody>\n",
       "</table>\n",
       "</div>"
      ],
      "text/plain": [
       "             Captured Time   Latitude  Longitude  Value    Unit\n",
       "0  2021-12-09 01:59:54.307  42.698600    2.89560   22.0     cpm\n",
       "1  2021-12-09 01:59:50.469  53.864000   -3.04700   20.5     cpm\n",
       "2      2021-12-09 01:59:48  37.366713  140.53097   23.4  status\n",
       "3      2021-12-09 01:58:36  51.063400   11.75860   16.0     cpm\n",
       "4      2021-12-09 01:59:47  37.366713  140.53097   14.0     cpm"
      ]
     },
     "execution_count": 4,
     "metadata": {},
     "output_type": "execute_result"
    }
   ],
   "source": [
    "df = dd.read_csv(f\"{ORIGINAL_DIR}measurements-out.csv\", usecols=[0, 1, 2, 3, 4])\n",
    "df.head()"
   ]
  },
  {
   "cell_type": "code",
   "execution_count": 5,
   "id": "swedish-woman",
   "metadata": {},
   "outputs": [
    {
     "data": {
      "text/plain": [
       "0              cpm\n",
       "1           status\n",
       "2          celcius\n",
       "3       PM10 ug/m3\n",
       "4      PM2.5 ug/m3\n",
       "5              211\n",
       "6              usv\n",
       "7              Cpm\n",
       "8              CPM\n",
       "9     PM2.5 ug/m3 \n",
       "10          uSv/hr\n",
       "11       Inspector\n",
       "12           HUMD%\n",
       "13            PM10\n",
       "14           PM2.5\n",
       "15             PM1\n",
       "16           TEMPC\n",
       "17          usv/hr\n",
       "18          NOXppm\n",
       "19           pm2.5\n",
       "20     DeviceType2\n",
       "21     DeviceType1\n",
       "22           vivek\n",
       "23           uSv/h\n",
       "24             uSv\n",
       "25             cpm\n",
       "26    microsievert\n",
       "27               1\n",
       "28               0\n",
       "29            RSSI\n",
       "Name: Unit, dtype: object"
      ]
     },
     "execution_count": 5,
     "metadata": {},
     "output_type": "execute_result"
    }
   ],
   "source": [
    "df.Unit.unique().compute()"
   ]
  },
  {
   "cell_type": "code",
   "execution_count": 6,
   "id": "specific-terry",
   "metadata": {},
   "outputs": [],
   "source": [
    "# Keeping only cpm (counts per minutes)\n",
    "df = df[df.Unit == 'cpm']"
   ]
  },
  {
   "cell_type": "code",
   "execution_count": 7,
   "id": "worse-third",
   "metadata": {},
   "outputs": [],
   "source": [
    "# Renaming columns\n",
    "df.columns = ['datetime', 'latitude', 'longitude', 'radiation', 'unit']"
   ]
  },
  {
   "cell_type": "code",
   "execution_count": 8,
   "id": "invisible-theta",
   "metadata": {},
   "outputs": [],
   "source": [
    "# Convert cpm to µSv/h\n",
    "# http://safecast.org/tilemap/methodology.html\n",
    "df.radiation = df.radiation / 350"
   ]
  },
  {
   "cell_type": "code",
   "execution_count": 9,
   "id": "human-quilt",
   "metadata": {},
   "outputs": [],
   "source": [
    "# Keep only positive values\n",
    "df = df[df.radiation > 0]"
   ]
  },
  {
   "cell_type": "code",
   "execution_count": null,
   "id": "7ffb1a56-a27b-4bf7-8d26-ad594828db95",
   "metadata": {},
   "outputs": [],
   "source": [
    "df = df.compute()"
   ]
  },
  {
   "cell_type": "code",
   "execution_count": null,
   "id": "iraqi-niger",
   "metadata": {},
   "outputs": [],
   "source": [
    "df.head()"
   ]
  },
  {
   "cell_type": "markdown",
   "id": "f49285eb-a2ea-441b-8b4a-5d450b4a77f0",
   "metadata": {},
   "source": [
    "# TODO"
   ]
  },
  {
   "cell_type": "code",
   "execution_count": null,
   "id": "going-conditions",
   "metadata": {},
   "outputs": [],
   "source": [
    "df.drop(df.columns.difference(['datetime','latitude', 'longitude','radiation']), 1, inplace=True)"
   ]
  },
  {
   "cell_type": "code",
   "execution_count": null,
   "id": "dependent-comparison",
   "metadata": {
    "tags": []
   },
   "outputs": [],
   "source": [
    "# Drop any NA\n",
    "df.dropna().compute()"
   ]
  },
  {
   "cell_type": "code",
   "execution_count": null,
   "id": "standard-today",
   "metadata": {},
   "outputs": [],
   "source": [
    "df.head()"
   ]
  },
  {
   "cell_type": "markdown",
   "id": "original-credit",
   "metadata": {},
   "source": [
    "**Validate latitude and longitude**"
   ]
  },
  {
   "cell_type": "code",
   "execution_count": null,
   "id": "spread-annex",
   "metadata": {},
   "outputs": [],
   "source": [
    "lat = df[\"latitude\"]\n",
    "max_lat = lat.max()\n",
    "min_lat = lat.min()\n",
    "print(max_lat)\n",
    "print(min_lat)"
   ]
  },
  {
   "cell_type": "code",
   "execution_count": null,
   "id": "joined-remedy",
   "metadata": {},
   "outputs": [],
   "source": [
    "lon = df[\"longitude\"]\n",
    "max_lon = lon.max()\n",
    "min_lon = lon.min()\n",
    "print(max_lon)\n",
    "print(min_lon)"
   ]
  },
  {
   "cell_type": "code",
   "execution_count": null,
   "id": "upset-sapphire",
   "metadata": {},
   "outputs": [],
   "source": [
    "df['datetime'] = dd.to_datetime(df['datetime'], unit='ns')"
   ]
  },
  {
   "cell_type": "code",
   "execution_count": null,
   "id": "regular-mountain",
   "metadata": {},
   "outputs": [],
   "source": [
    "df['datetime'].min()"
   ]
  },
  {
   "cell_type": "code",
   "execution_count": null,
   "id": "hearing-consolidation",
   "metadata": {},
   "outputs": [],
   "source": [
    "df['datetime'].max()"
   ]
  },
  {
   "cell_type": "code",
   "execution_count": null,
   "id": "three-message",
   "metadata": {},
   "outputs": [],
   "source": [
    "# Drop any NA\n",
    "df.dropna().compute()"
   ]
  },
  {
   "cell_type": "code",
   "execution_count": null,
   "id": "infectious-parts",
   "metadata": {},
   "outputs": [],
   "source": [
    "df.head()"
   ]
  },
  {
   "cell_type": "code",
   "execution_count": null,
   "id": "comparable-adventure",
   "metadata": {},
   "outputs": [],
   "source": [
    "df['datetime'] = df['datetime'].dt.date"
   ]
  },
  {
   "cell_type": "code",
   "execution_count": null,
   "id": "brief-hierarchy",
   "metadata": {},
   "outputs": [],
   "source": [
    "df.head()"
   ]
  },
  {
   "cell_type": "code",
   "execution_count": null,
   "id": "gothic-saying",
   "metadata": {},
   "outputs": [],
   "source": [
    "df = df[df.datetime < dd.to_datetime('2021-03-15')]"
   ]
  },
  {
   "cell_type": "code",
   "execution_count": null,
   "id": "paperback-reader",
   "metadata": {},
   "outputs": [],
   "source": [
    "df['datetime'].min()"
   ]
  },
  {
   "cell_type": "code",
   "execution_count": null,
   "id": "individual-implement",
   "metadata": {},
   "outputs": [],
   "source": [
    "boxplot = df.boxplot(column=['radiation'])"
   ]
  },
  {
   "cell_type": "code",
   "execution_count": null,
   "id": "genetic-beast",
   "metadata": {},
   "outputs": [],
   "source": [
    "# Identifying outliers with the 1.5xIQR rule\n",
    "Q1 = df['radiation'].quantile(.25)\n",
    "Q3 = df['radiation'].quantile(.75)\n",
    "q1 = Q1-1.5*(Q3-Q1)\n",
    "q3 = Q3+1.5*(Q3-Q1)\n",
    "\n",
    "df = df[df['radiation'].between(q1, q3)]"
   ]
  },
  {
   "cell_type": "code",
   "execution_count": null,
   "id": "invisible-helena",
   "metadata": {},
   "outputs": [],
   "source": [
    "boxplot = df.boxplot(column=['radiation'])"
   ]
  },
  {
   "cell_type": "code",
   "execution_count": null,
   "id": "personalized-consciousness",
   "metadata": {},
   "outputs": [],
   "source": [
    "print('Number of measurements: ', df.shape[0])\n",
    "df.head()"
   ]
  },
  {
   "cell_type": "code",
   "execution_count": null,
   "id": "ranking-credit",
   "metadata": {},
   "outputs": [],
   "source": [
    "df['radiation'].min()"
   ]
  },
  {
   "cell_type": "code",
   "execution_count": null,
   "id": "treated-copper",
   "metadata": {},
   "outputs": [],
   "source": [
    "df['radiation'].max()"
   ]
  },
  {
   "cell_type": "code",
   "execution_count": null,
   "id": "chief-administration",
   "metadata": {},
   "outputs": [],
   "source": [
    "df.to_csv(f\"{ANALYSIS_DIR}measurements-out-2903-q1q3.csv\", index=False)"
   ]
  },
  {
   "cell_type": "markdown",
   "id": "trained-machine",
   "metadata": {},
   "source": [
    "**Visualization**"
   ]
  },
  {
   "cell_type": "code",
   "execution_count": null,
   "id": "sorted-standing",
   "metadata": {},
   "outputs": [],
   "source": [
    "import datashader as ds\n",
    "from datashader import transfer_functions as tf\n",
    "from datashader.colors import colormap_select, Greys9, Hot, viridis, inferno\n",
    "from datashader.bokeh_ext import create_ramp_legend, create_categorical_legend\n",
    "import warnings\n",
    "warnings.filterwarnings('ignore')\n",
    "\n",
    "from bokeh.io import output_notebook, show"
   ]
  },
  {
   "cell_type": "code",
   "execution_count": null,
   "id": "brief-camping",
   "metadata": {},
   "outputs": [],
   "source": [
    "plot_width  = int(800)\n",
    "plot_height = int(plot_width//1.2)"
   ]
  },
  {
   "cell_type": "code",
   "execution_count": null,
   "id": "homeless-steel",
   "metadata": {},
   "outputs": [],
   "source": [
    "def draw_map(df, plot_width, plot_height, colors, agg_func, interp, background_col):\n",
    "    cvs = ds.Canvas(plot_width=plot_width, plot_height=plot_height)\n",
    "    agg = cvs.points(df, 'longitude', 'latitude',  agg_func('radiation'))\n",
    "    img = tf.shade(agg, cmap=colors, how=interp)\n",
    "    return tf.set_background(img, color=background_col)"
   ]
  },
  {
   "cell_type": "code",
   "execution_count": null,
   "id": "adaptive-cooking",
   "metadata": {},
   "outputs": [],
   "source": [
    "img = draw_map(df, plot_width, plot_height, inferno, ds.count, 'log', 'black')\n",
    "img"
   ]
  },
  {
   "cell_type": "code",
   "execution_count": null,
   "id": "certified-ballet",
   "metadata": {},
   "outputs": [],
   "source": [
    "x_min_jpn, y_min_jpn, x_max_jpn, y_max_jpn = 128.03, 30.22, 148.65, 45.83\n",
    "df_jpn = df[(df.longitude > x_min_jpn) & (df.longitude < x_max_jpn) & (df.latitude > y_min_jpn) & (df.latitude < y_max_jpn)]"
   ]
  },
  {
   "cell_type": "code",
   "execution_count": null,
   "id": "soviet-hollow",
   "metadata": {},
   "outputs": [],
   "source": [
    "img = draw_map(df_jpn, plot_width, plot_height, inferno, ds.count, 'log', 'black')\n",
    "img"
   ]
  },
  {
   "cell_type": "code",
   "execution_count": null,
   "id": "lightweight-resort",
   "metadata": {},
   "outputs": [],
   "source": [
    "x_min_fk, y_min_fk, x_max_fk, y_max_fk = 140.0166, 37.0047, 141.2251, 38.195\n",
    "df_fk = df[(df.longitude > x_min_fk) & (df.longitude < x_max_fk) & (df.latitude > y_min_fk) & (df.latitude < y_max_fk)]"
   ]
  },
  {
   "cell_type": "code",
   "execution_count": null,
   "id": "abandoned-amber",
   "metadata": {},
   "outputs": [],
   "source": [
    "img = draw_map(df_fk, plot_width, plot_height, inferno, ds.count, 'log', 'black')\n",
    "img"
   ]
  },
  {
   "cell_type": "markdown",
   "id": "b066ea0e-b46f-4300-aad1-b363c12f4b82",
   "metadata": {},
   "source": [
    "# Another option"
   ]
  },
  {
   "cell_type": "code",
   "execution_count": null,
   "id": "successful-addition",
   "metadata": {},
   "outputs": [],
   "source": [
    "# Identifying outliers with the 1.5xIQR rule\n",
    "Q1 = df['radiation'].quantile(.25)\n",
    "Q3 = df['radiation'].quantile(.75)\n",
    "q1 = Q1-1.5*(Q3-Q1)\n",
    "q3 = Q3+1.5*(Q3-Q1)\n",
    "Q4 = df['radiation'].quantile(0.995)"
   ]
  },
  {
   "cell_type": "code",
   "execution_count": null,
   "id": "olympic-smoke",
   "metadata": {},
   "outputs": [],
   "source": [
    "df = df[df['radiation'].between(q1, Q4)]"
   ]
  },
  {
   "cell_type": "code",
   "execution_count": null,
   "id": "plain-stereo",
   "metadata": {},
   "outputs": [],
   "source": [
    "boxplot = df.boxplot(column=['radiation'])"
   ]
  },
  {
   "cell_type": "code",
   "execution_count": null,
   "id": "monthly-texture",
   "metadata": {},
   "outputs": [],
   "source": [
    "print('Number of measurements: ', df.shape[0])\n",
    "df.head()"
   ]
  },
  {
   "cell_type": "code",
   "execution_count": null,
   "id": "every-grave",
   "metadata": {},
   "outputs": [],
   "source": [
    "df['radiation'].min()"
   ]
  },
  {
   "cell_type": "code",
   "execution_count": null,
   "id": "black-charm",
   "metadata": {},
   "outputs": [],
   "source": [
    "df['radiation'].max()"
   ]
  },
  {
   "cell_type": "markdown",
   "id": "trying-commitment",
   "metadata": {},
   "source": [
    "**Visualization**"
   ]
  },
  {
   "cell_type": "code",
   "execution_count": null,
   "id": "christian-producer",
   "metadata": {},
   "outputs": [],
   "source": [
    "import datashader as ds\n",
    "from datashader import transfer_functions as tf\n",
    "from datashader.colors import colormap_select, Greys9, Hot, viridis, inferno\n",
    "from datashader.bokeh_ext import create_ramp_legend, create_categorical_legend\n",
    "import warnings\n",
    "warnings.filterwarnings('ignore')\n",
    "\n",
    "from bokeh.io import output_notebook, show"
   ]
  },
  {
   "cell_type": "code",
   "execution_count": null,
   "id": "connected-socket",
   "metadata": {},
   "outputs": [],
   "source": [
    "plot_width  = int(800)\n",
    "plot_height = int(plot_width//1.2)"
   ]
  },
  {
   "cell_type": "code",
   "execution_count": null,
   "id": "extended-battlefield",
   "metadata": {},
   "outputs": [],
   "source": [
    "def draw_map(df, plot_width, plot_height, colors, agg_func, interp, background_col):\n",
    "    cvs = ds.Canvas(plot_width=plot_width, plot_height=plot_height)\n",
    "    agg = cvs.points(df, 'longitude', 'latitude',  agg_func('radiation'))\n",
    "    img = tf.shade(agg, cmap=colors, how=interp)\n",
    "    return tf.set_background(img, color=background_col)"
   ]
  },
  {
   "cell_type": "code",
   "execution_count": null,
   "id": "wireless-retail",
   "metadata": {},
   "outputs": [],
   "source": [
    "img = draw_map(df, plot_width, plot_height, inferno, ds.count, 'log', 'black')\n",
    "img"
   ]
  },
  {
   "cell_type": "code",
   "execution_count": null,
   "id": "american-chinese",
   "metadata": {},
   "outputs": [],
   "source": [
    "x_min_jpn, y_min_jpn, x_max_jpn, y_max_jpn = 128.03, 30.22, 148.65, 45.83\n",
    "df_jpn = df[(df.longitude > x_min_jpn) & (df.longitude < x_max_jpn) & (df.latitude > y_min_jpn) & (df.latitude < y_max_jpn)]"
   ]
  },
  {
   "cell_type": "code",
   "execution_count": null,
   "id": "civil-nitrogen",
   "metadata": {},
   "outputs": [],
   "source": [
    "img = draw_map(df_jpn, plot_width, plot_height, inferno, ds.count, 'log', 'black')\n",
    "img"
   ]
  },
  {
   "cell_type": "code",
   "execution_count": null,
   "id": "enormous-certification",
   "metadata": {},
   "outputs": [],
   "source": [
    "x_min_fk, y_min_fk, x_max_fk, y_max_fk = 140.0166, 37.0047, 141.2251, 38.195\n",
    "df_fk = df[(df.longitude > x_min_fk) & (df.longitude < x_max_fk) & (df.latitude > y_min_fk) & (df.latitude < y_max_fk)]"
   ]
  },
  {
   "cell_type": "code",
   "execution_count": null,
   "id": "eligible-morocco",
   "metadata": {},
   "outputs": [],
   "source": [
    "img = draw_map(df_fk, plot_width, plot_height, inferno, ds.count, 'log', 'black')\n",
    "img"
   ]
  },
  {
   "cell_type": "markdown",
   "id": "adapted-mixer",
   "metadata": {},
   "source": [
    "**Statistics**"
   ]
  },
  {
   "cell_type": "code",
   "execution_count": null,
   "id": "confident-sewing",
   "metadata": {},
   "outputs": [],
   "source": [
    "import pandas as pd\n",
    "import numpy as np\n",
    "\n",
    "import datashader as ds\n",
    "from datashader import transfer_functions as tf\n",
    "from datashader.colors import colormap_select, Greys9, Hot, viridis, inferno\n",
    "from datashader.bokeh_ext import create_ramp_legend, create_categorical_legend\n",
    "import warnings\n",
    "warnings.filterwarnings('ignore')\n",
    "\n",
    "from bokeh.io import output_notebook, show"
   ]
  },
  {
   "cell_type": "code",
   "execution_count": null,
   "id": "focal-blood",
   "metadata": {},
   "outputs": [],
   "source": [
    "ORIGINAL_DIR = \"../Original-Data/\"\n",
    "ANALYSIS_DIR = \"../Analysis-Data/\""
   ]
  },
  {
   "cell_type": "code",
   "execution_count": null,
   "id": "tribal-necklace",
   "metadata": {},
   "outputs": [],
   "source": [
    "dtypes = {'latitude': np.float32, 'longitude': np.float32, 'radiation': np.float32}"
   ]
  },
  {
   "cell_type": "code",
   "execution_count": null,
   "id": "weekly-kinase",
   "metadata": {},
   "outputs": [],
   "source": [
    "df = pd.read_csv(f\"{ANALYSIS_DIR}measurements-out-2903-q1-995.csv\", dtype=dtypes)\n",
    "df.head()"
   ]
  },
  {
   "cell_type": "code",
   "execution_count": null,
   "id": "capital-voice",
   "metadata": {},
   "outputs": [],
   "source": [
    "print('Number of measurements: ', df.shape[0])"
   ]
  },
  {
   "cell_type": "code",
   "execution_count": null,
   "id": "capable-lyric",
   "metadata": {},
   "outputs": [],
   "source": [
    "df = df.drop_duplicates(subset=['datetime', 'latitude', 'longitude'], keep='last', ignore_index=True)\n",
    "df.head()"
   ]
  },
  {
   "cell_type": "code",
   "execution_count": null,
   "id": "academic-portuguese",
   "metadata": {
    "scrolled": true
   },
   "outputs": [],
   "source": [
    "print('Number of measurements: ', df.shape[0])"
   ]
  },
  {
   "cell_type": "code",
   "execution_count": null,
   "id": "constitutional-combination",
   "metadata": {},
   "outputs": [],
   "source": [
    "df.to_csv(f\"{ANALYSIS_DIR}measurements-unique-q1-995.csv\", index=False)"
   ]
  },
  {
   "cell_type": "code",
   "execution_count": null,
   "id": "driving-christmas",
   "metadata": {},
   "outputs": [],
   "source": [
    "x_min_jpn, y_min_jpn, x_max_jpn, y_max_jpn = 128.03, 30.22, 148.65, 45.83\n",
    "df_jpn = df[(df.longitude > x_min_jpn) & (df.longitude < x_max_jpn) & (df.latitude > y_min_jpn) & (df.latitude < y_max_jpn)]\n",
    "df_jpn.to_csv(f\"{ANALYSIS_DIR}measurements-japan-q1-995.csv\", index=False)"
   ]
  },
  {
   "cell_type": "code",
   "execution_count": null,
   "id": "disabled-guarantee",
   "metadata": {},
   "outputs": [],
   "source": [
    "x_min_fk, y_min_fk, x_max_fk, y_max_fk = 140.0166, 37.0047, 141.2251, 38.195\n",
    "df_fk = df[(df.longitude > x_min_fk) & (df.longitude < x_max_fk) & (df.latitude > y_min_fk) & (df.latitude < y_max_fk)]\n",
    "df_fk.to_csv(f\"{ANALYSIS_DIR}measurements-fukushima-q1-995.csv\", index=False)"
   ]
  },
  {
   "cell_type": "code",
   "execution_count": null,
   "id": "royal-swedish",
   "metadata": {},
   "outputs": [],
   "source": [
    "def draw_map(df, plot_width, plot_height, colors, agg_func, interp, background_col):\n",
    "    cvs = ds.Canvas(plot_width=plot_width, plot_height=plot_height)\n",
    "    agg = cvs.points(df, 'longitude', 'latitude',  agg_func('radiation'))\n",
    "    img = tf.shade(agg, cmap=colors, how=interp)\n",
    "    return tf.set_background(img, color=background_col)"
   ]
  },
  {
   "cell_type": "code",
   "execution_count": null,
   "id": "centered-faith",
   "metadata": {},
   "outputs": [],
   "source": [
    "import requests\n",
    "def get_boundingbox_country(country, output_as='boundingbox'):\n",
    "    \"\"\"\n",
    "    get the bounding box of a country in EPSG4326 given a country name\n",
    "\n",
    "    Parameters\n",
    "    ----------\n",
    "    country : str\n",
    "        name of the country in english and lowercase\n",
    "    output_as : 'str\n",
    "        chose from 'boundingbox' or 'center'. \n",
    "         - 'boundingbox' for [latmin, latmax, lonmin, lonmax]\n",
    "         - 'center' for [latcenter, loncenter]\n",
    "\n",
    "    Returns\n",
    "    -------\n",
    "    output : list\n",
    "        list with coordinates as str\n",
    "    \"\"\"\n",
    "    # create url\n",
    "    url = '{0}{1}{2}'.format('http://nominatim.openstreetmap.org/search?country=',\n",
    "                             country,\n",
    "                             '&format=json&polygon=0')\n",
    "    response = requests.get(url).json()[0]\n",
    "\n",
    "    # parse response to list\n",
    "    if output_as == 'boundingbox':\n",
    "        lst = response[output_as]\n",
    "        output = [float(i) for i in lst]\n",
    "    if output_as == 'center':\n",
    "        lst = [response.get(key) for key in ['lat','lon']]\n",
    "        output = [float(i) for i in lst]\n",
    "    return output"
   ]
  },
  {
   "cell_type": "code",
   "execution_count": null,
   "id": "opened-understanding",
   "metadata": {},
   "outputs": [],
   "source": [
    "import matplotlib.pyplot as plt\n",
    "def create_statistics(radiation_map, country):\n",
    "    coordinates = get_boundingbox_country(country)\n",
    "    lat_min, lat_max, lon_min, lon_max = coordinates\n",
    "    radiation_map = radiation_map[(radiation_map.longitude > lon_min) & (radiation_map.longitude < lon_max) & (radiation_map.latitude > lat_min) & (radiation_map.latitude < lat_max)]\n",
    "    print(\"[INFO] Number of measurements:\", radiation_map.shape[0])\n",
    "    print(\"[INFO] Wait a second. We will provide detailed data in a moment.\")\n",
    "    radiation_map.boxplot(column=['radiation'])\n",
    "    print(radiation_map.radiation.describe())\n",
    "    \n",
    "    plot_width  = int(600)\n",
    "    plot_height = int(plot_width//1.2)\n",
    "    img = draw_map(radiation_map, plot_width, plot_height, inferno, ds.count, 'log', 'black')\n",
    "    return img"
   ]
  },
  {
   "cell_type": "code",
   "execution_count": null,
   "id": "prime-extent",
   "metadata": {},
   "outputs": [],
   "source": [
    "vis = create_statistics(df, 'Japan')\n",
    "vis"
   ]
  },
  {
   "cell_type": "code",
   "execution_count": null,
   "id": "affecting-bracelet",
   "metadata": {},
   "outputs": [],
   "source": [
    "vis = create_statistics(df, 'Ireland')\n",
    "vis"
   ]
  },
  {
   "cell_type": "code",
   "execution_count": null,
   "id": "israeli-breath",
   "metadata": {},
   "outputs": [],
   "source": [
    "vis = create_statistics(df, 'Sweden')\n",
    "vis"
   ]
  },
  {
   "cell_type": "code",
   "execution_count": null,
   "id": "joined-proof",
   "metadata": {},
   "outputs": [],
   "source": [
    "vis = create_statistics(df, 'Czech Republic')\n",
    "vis"
   ]
  },
  {
   "cell_type": "code",
   "execution_count": null,
   "id": "exciting-quick",
   "metadata": {},
   "outputs": [],
   "source": [
    "vis = create_statistics(df, 'Brasil')\n",
    "vis"
   ]
  },
  {
   "cell_type": "code",
   "execution_count": null,
   "id": "solved-daily",
   "metadata": {},
   "outputs": [],
   "source": [
    "vis = create_statistics(df, 'Poland')\n",
    "vis"
   ]
  },
  {
   "cell_type": "code",
   "execution_count": null,
   "id": "minor-prayer",
   "metadata": {},
   "outputs": [],
   "source": [
    "vis = create_statistics(df, 'Ukraine')\n",
    "vis"
   ]
  },
  {
   "cell_type": "code",
   "execution_count": null,
   "id": "cultural-warner",
   "metadata": {},
   "outputs": [],
   "source": [
    "vis = create_statistics(df, 'Germany')\n",
    "vis"
   ]
  },
  {
   "cell_type": "code",
   "execution_count": null,
   "id": "ambient-removal",
   "metadata": {},
   "outputs": [],
   "source": [
    "vis = create_statistics(df, 'China')\n",
    "vis"
   ]
  },
  {
   "cell_type": "code",
   "execution_count": null,
   "id": "regulation-copyright",
   "metadata": {},
   "outputs": [],
   "source": [
    "vis = create_statistics(df, 'Iraq')\n",
    "vis"
   ]
  },
  {
   "cell_type": "code",
   "execution_count": null,
   "id": "charitable-branch",
   "metadata": {},
   "outputs": [],
   "source": [
    "vis = create_statistics(df, 'Nepal')\n",
    "vis"
   ]
  },
  {
   "cell_type": "code",
   "execution_count": null,
   "id": "beautiful-springfield",
   "metadata": {},
   "outputs": [],
   "source": [
    "import matplotlib.pyplot as plt\n",
    "def create_statistics_for_coordinates(radiation_map, coordinates):\n",
    "    lon_min, lon_max, lat_min, lat_max = coordinates\n",
    "    radiation_map = radiation_map[(radiation_map.longitude > lon_min) & (radiation_map.longitude < lon_max) & (radiation_map.latitude > lat_min) & (radiation_map.latitude < lat_max)]\n",
    "    print(\"[INFO] Number of measurements:\", radiation_map.shape[0])\n",
    "    print(\"[INFO] Wait a second. We will provide detailed data in a moment.\")\n",
    "    radiation_map.boxplot(column=['radiation'])\n",
    "    print(radiation_map.radiation.describe())\n",
    "    \n",
    "    plot_width  = int(600)\n",
    "    plot_height = int(plot_width//1.2)\n",
    "    img = draw_map(radiation_map, plot_width, plot_height, inferno, ds.count, 'log', 'black')\n",
    "    return img"
   ]
  },
  {
   "cell_type": "code",
   "execution_count": null,
   "id": "satisfied-granny",
   "metadata": {},
   "outputs": [],
   "source": [
    "coordinates = {\"Fukushima\": [140.0166, 141.2251, 37.0047, 38.195], \n",
    "               \"Netherlands\": [3.10, 7.32, 50.73, 53.56],}"
   ]
  },
  {
   "cell_type": "markdown",
   "id": "generous-sequence",
   "metadata": {},
   "source": [
    "Fukushima"
   ]
  },
  {
   "cell_type": "code",
   "execution_count": null,
   "id": "critical-quick",
   "metadata": {},
   "outputs": [],
   "source": [
    "vis = create_statistics_for_coordinates(df, coordinates[\"Fukushima\"])\n",
    "vis"
   ]
  },
  {
   "cell_type": "markdown",
   "id": "guilty-steel",
   "metadata": {},
   "source": [
    "Netherlands"
   ]
  },
  {
   "cell_type": "code",
   "execution_count": null,
   "id": "planned-congress",
   "metadata": {},
   "outputs": [],
   "source": [
    "vis = create_statistics_for_coordinates(df, coordinates[\"Netherlands\"])\n",
    "vis"
   ]
  }
 ],
 "metadata": {
  "kernelspec": {
   "display_name": "Python 3 (ipykernel)",
   "language": "python",
   "name": "python3"
  },
  "language_info": {
   "codemirror_mode": {
    "name": "ipython",
    "version": 3
   },
   "file_extension": ".py",
   "mimetype": "text/x-python",
   "name": "python",
   "nbconvert_exporter": "python",
   "pygments_lexer": "ipython3",
   "version": "3.8.11"
  }
 },
 "nbformat": 4,
 "nbformat_minor": 5
}
